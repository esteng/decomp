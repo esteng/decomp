{
 "cells": [
  {
   "cell_type": "code",
   "execution_count": 1,
   "metadata": {},
   "outputs": [],
   "source": [
    "from decomp import UDSCorpus\n",
    "from decomp.semantics.uds import UDSGraph\n",
    "from typing import List, Dict\n",
    "import dash\n",
    "import dash_core_components as dcc\n",
    "import dash_html_components as html\n",
    "import networkx as nx\n",
    "import plotly.graph_objs as go\n",
    "import numpy as np\n",
    "import matplotlib\n"
   ]
  },
  {
   "cell_type": "code",
   "execution_count": 2,
   "metadata": {},
   "outputs": [],
   "source": [
    "# problem = UDSCorpus(split=\"train\")['ewt-train-9']\n",
    "problem = UDSCorpus(split=\"dev\")['ewt-dev-1']"
   ]
  },
  {
   "cell_type": "code",
   "execution_count": null,
   "metadata": {},
   "outputs": [],
   "source": []
  },
  {
   "cell_type": "code",
   "execution_count": null,
   "metadata": {},
   "outputs": [],
   "source": []
  },
  {
   "cell_type": "code",
   "execution_count": 64,
   "metadata": {},
   "outputs": [],
   "source": [
    "class UDSVisualization:\n",
    "    def __init__(self,\n",
    "                 graph: UDSGraph, \n",
    "                 add_span_edges: bool = True,\n",
    "                 add_syntax_edges: bool = False,\n",
    "                 syntax_y: float = 0.0,\n",
    "                 semantics_y: float = 10.0,\n",
    "                 node_offset: float = 7.0) -> None:\n",
    "        self.graph = graph\n",
    "        self.annotations = []\n",
    "        self.trace_list = []\n",
    "        self.node_to_xy = {}\n",
    "        self.do_shorten = True if len(self.graph.syntax_subgraph) > 10 else False\n",
    "        self.syntax_y = syntax_y\n",
    "        self.semantics_y = semantics_y\n",
    "        self.node_offset = node_offset\n",
    "        self.added_edges = []\n",
    "        self.add_span_edges = add_span_edges\n",
    "        self.add_syntax_edges = add_syntax_edges\n",
    "        \n",
    "    def _format_line(self, start, end):\n",
    "        # format a line between dependents \n",
    "        if start == end:\n",
    "            return None, None, None\n",
    "        \n",
    "        x0, y0 = start\n",
    "        x1, y1 = end\n",
    "        if x0 > x1:\n",
    "            x1, x0 = x0, x1\n",
    "            y1, y0 = y0, y1\n",
    "        offset = x1-x0\n",
    "     \n",
    "        height_factor = 1/(4*offset)\n",
    "        x_range = np.linspace(x0, x1, num=100)\n",
    "        \n",
    "        different = y1 != y0\n",
    "        \n",
    "        if different:\n",
    "            if y0 < y1 and x0 < x1:\n",
    "                x1_root = 4*(y1 - y0) + x1 \n",
    "                y_range = -height_factor * (x_range - x0) * (x_range-x1_root) + y0\n",
    "            elif y0 > y1 and x0 < x1: \n",
    "                x0_root = -4*(y0-y1) + x0\n",
    "                y_range = -height_factor * (x_range - x0_root) * (x_range-x1) + y1\n",
    "            else:\n",
    "                raise ValueError\n",
    "        else:\n",
    "            y_range = -height_factor * (x_range - x0)*(x_range - x1) + y0\n",
    "              \n",
    "#         arrow_head = self._add_arrowhead((x1,y1), x0, x1, \"right\")\n",
    "        return x_range, y_range, np.max(y_range)\n",
    "    \n",
    "    def _add_arrowhead(self, point, root0, root1, direction, color=\"black\"):\n",
    "        # get tangent line at point\n",
    "        x,y = point\n",
    "        if direction in [\"left\", \"right\"]:\n",
    "            derivative = 1/(4*(root1-root0)) * (2*x - root0 - root1) \n",
    "            theta_rad = np.arctan(derivative)\n",
    "        else:\n",
    "            # downward at a slope \n",
    "            if x != root0:\n",
    "#                 derivative = (y - root1)/(x - root0)\n",
    "                derivative = (y-root1)/(x-root0)\n",
    "                theta_rad = 3.14 - np.arctan(derivative)\n",
    "            else:\n",
    "                theta_rad = 3.14/2\n",
    "            \n",
    "        l = 1\n",
    "        x0 = x\n",
    "        y0 = y\n",
    "        x1 = x - l\n",
    "        x2 = x - l \n",
    "        y1 = y + 0.1*l\n",
    "        y2 = y - 0.1*l\n",
    "        \n",
    "#         self.trace_list.append(arrow_before)\n",
    "\n",
    "#         vertices = [[x0,y0], [x1, y1], [x2, y2], [x0,y0]]\n",
    "        # put at origin\n",
    "        vertices = [[0, 0], [x1-x0, y1-y0], [x2-x0, y2-y0], [0,0]]\n",
    "        \n",
    "        width = 1\n",
    "        if direction == \"left\":\n",
    "            arrowhead_transformation = (matplotlib.transforms.Affine2D()\n",
    "                                        .rotate_around(0,0,theta_rad)\n",
    "                                        .rotate_around(0,0,3.14)\n",
    "                                        .translate(x0, y0)\n",
    "                                        .frozen())\n",
    "        else:\n",
    "            arrowhead_transformation = (matplotlib.transforms.Affine2D()\n",
    "                                        .rotate_around(0,0,-theta_rad)\n",
    "#                                         .rotate_around(0,0,3.14 - theta_rad)\n",
    "                                        .translate(x0, y0)\n",
    "                                        .frozen())\n",
    "\n",
    "        vertices_prime = [arrowhead_transformation.transform_point((x,y)) for (x,y) in vertices]\n",
    "        x0_prime, y0_prime = vertices_prime[0] \n",
    "        x1_prime, y1_prime = vertices_prime[1]\n",
    "        x2_prime, y2_prime = vertices_prime[2]\n",
    "        \n",
    "        arrow = go.Scatter(x=[x0_prime , x1_prime , x2_prime , x0_prime ], \n",
    "                           y=[y0_prime , y1_prime , y2_prime , y0_prime ],\n",
    "                           hoverinfo='skip',\n",
    "                           mode='lines',\n",
    "                           fill='toself',\n",
    "                           line={'width': 0.5, \"color\":color},\n",
    "                           fillcolor=color,\n",
    "                          )\n",
    "        self.trace_list.append(arrow)\n",
    "\n",
    "        \n",
    "    def _get_attribute_str(self, node: str, is_node:bool=True) -> str:\n",
    "        NODE_ONTOLOGY = ['factuality-factual', 'genericity-arg-abstract', 'genericity-arg-kind', 'genericity-arg-particular', 'genericity-pred-dynamic', 'genericity-pred-hypothetical', 'genericity-pred-particular', 'time-dur-centuries', 'time-dur-days', 'time-dur-decades', 'time-dur-forever', 'time-dur-hours', 'time-dur-instant', 'time-dur-minutes', 'time-dur-months', 'time-dur-seconds', 'time-dur-weeks', 'time-dur-years', 'wordsense-supersense-noun.Tops', 'wordsense-supersense-noun.act', 'wordsense-supersense-noun.animal', 'wordsense-supersense-noun.artifact', 'wordsense-supersense-noun.attribute', 'wordsense-supersense-noun.body', 'wordsense-supersense-noun.cognition', 'wordsense-supersense-noun.communication', 'wordsense-supersense-noun.event', 'wordsense-supersense-noun.feeling', 'wordsense-supersense-noun.food', 'wordsense-supersense-noun.group', 'wordsense-supersense-noun.location', 'wordsense-supersense-noun.motive', 'wordsense-supersense-noun.object', 'wordsense-supersense-noun.person', 'wordsense-supersense-noun.phenomenon', 'wordsense-supersense-noun.plant', 'wordsense-supersense-noun.possession', 'wordsense-supersense-noun.process', 'wordsense-supersense-noun.quantity', 'wordsense-supersense-noun.relation', 'wordsense-supersense-noun.shape', 'wordsense-supersense-noun.state', 'wordsense-supersense-noun.substance', 'wordsense-supersense-noun.time']\n",
    "        EDGE_ONTOLOGY =  ['protoroles-awareness', 'protoroles-change_of_location', 'protoroles-change_of_possession', 'protoroles-change_of_state', 'protoroles-change_of_state_continuous', 'protoroles-existed_after', 'protoroles-existed_before', 'protoroles-existed_during', 'protoroles-instigation', 'protoroles-partitive', 'protoroles-sentient', 'protoroles-volition', 'protoroles-was_for_benefit', 'protoroles-was_used']\n",
    "        # format attribute string for hovering\n",
    "        to_ret = \"\"\n",
    "        if is_node:\n",
    "            for attr in NODE_ONTOLOGY:\n",
    "                try:\n",
    "                    val = self.graph.nodes[node][attr]\n",
    "                except KeyError:\n",
    "                    continue\n",
    "                to_ret += f\"{attr}: {val}<br>\"\n",
    "        else:\n",
    "            for attr in EDGE_ONTOLOGY:\n",
    "                try:\n",
    "                    val = self.graph.edges[node][attr]\n",
    "                except KeyError:\n",
    "                    continue\n",
    "                to_ret += f\"{attr}: {val}<br>\"\n",
    "\n",
    "        return to_ret\n",
    "    \n",
    "    def _get_xy_from_edge(self, node_0, node_1):\n",
    "        try:\n",
    "            x0,y0 = self.node_to_xy[node_0]\n",
    "            x1,y1 = self.node_to_xy[node_1]\n",
    "            return (x0, y0, x1, y1)\n",
    "        except KeyError:\n",
    "            # addresse, root, speaker nodes\n",
    "            return None\n",
    "    \n",
    "        \n",
    "    def _add_syntax_nodes(self):\n",
    "        syntax_layer = self.graph.syntax_subgraph\n",
    "        syntax_node_trace = go.Scatter(x=[], y=[],hovertext=[], text=[], \n",
    "                                        mode='markers+text', textposition=\"bottom center\",\n",
    "                                        hoverinfo=\"text\", \n",
    "                                        marker={'size': 15, 'color': 'LightSkyBlue'})\n",
    "        for i, node in enumerate(syntax_layer):\n",
    "            node_idx = int(node.split(\"-\")[-1])\n",
    "            syntax_node_trace['x'] += tuple([node_idx * self.node_offset])\n",
    "            # alternate heights\n",
    "            y = self.syntax_y + i%2*0.5\n",
    "            syntax_node_trace['y'] += tuple([y])\n",
    "            self.node_to_xy[node] = (node_idx * self.node_offset, y)\n",
    "            \n",
    "            syntax_node_trace['hovertext'] += tuple([self.graph.nodes[node]['form']])\n",
    "            if self.do_shorten:\n",
    "                syntax_node_trace['text'] += tuple([self.graph.nodes[node]['form'][0:3]])\n",
    "            else:\n",
    "                syntax_node_trace['text'] += tuple([self.graph.nodes[node]['form']])\n",
    "                \n",
    "        self.trace_list.append(syntax_node_trace)\n",
    "        \n",
    "    def _add_semantics_nodes(self):\n",
    "        semantics_layer = self.graph.semantics_subgraph\n",
    "        semantics_node_trace = go.Scatter(x=[], y=[], hovertext=[], text=[], mode='markers+text', textposition=\"top center\",\n",
    "                                hoverinfo=\"text\", marker={'size': 20, 'color': 'firebrick'})\n",
    "        for i, node in enumerate(semantics_layer):\n",
    "            try:\n",
    "                node_idx = int(node.split(\"-\")[-1])\n",
    "            except ValueError:\n",
    "                # addressee, root, speaker nodes\n",
    "                node_idx = 0\n",
    "\n",
    "            semantics_node_trace['x'] += tuple([node_idx * self.node_offset])\n",
    "            semantics_node_trace['y'] += tuple([self.semantics_y])\n",
    "            semantics_node_trace['text'] += tuple([node_idx])\n",
    "            semantics_node_trace['hovertext'] += tuple([self._get_attribute_str(node, is_node=True)])\n",
    "            self.node_to_xy[node] = (node_idx * self.node_offset, self.semantics_y)\n",
    "\n",
    "        self.trace_list.append(semantics_node_trace)\n",
    "        \n",
    "    def _add_syntax_edges(self):\n",
    "        \n",
    "        for (node_0, node_1) in self.graph.syntax_subgraph.edges:\n",
    "            try:\n",
    "                x0,y0,x1,y1 = self._get_xy_from_edge(node_0, node_1)\n",
    "            except TypeError:\n",
    "                continue\n",
    "            x_range, y_range, height = self._format_line((x0,y0), (x1,y1))\n",
    "            if x_range is None:\n",
    "                continue\n",
    "\n",
    "            edge_trace = go.Scatter(x=tuple(x_range), y=tuple(y_range),\n",
    "                                   hoverinfo='skip',\n",
    "                                   mode='lines',\n",
    "                                   line={'width': 0.5},\n",
    "                                   marker=dict(color='blue'),\n",
    "                                   line_shape='spline',\n",
    "                                   opacity=1)\n",
    "            self.trace_list.append(edge_trace)\n",
    "            if x1 < x0:\n",
    "                direction = \"left\"\n",
    "            else:\n",
    "                direction = \"right\"\n",
    "                \n",
    "            self._add_arrowhead((x1,y1), x0, x1, direction, color=\"blue\")\n",
    "\n",
    "    def _add_semantics_edges(self):\n",
    "        for (node_0, node_1) in self.graph.semantics_subgraph.edges:\n",
    "            try:\n",
    "                x0,y0,x1,y1 = self._get_xy_from_edge(node_0, node_1)\n",
    "            except TypeError:\n",
    "                continue\n",
    "\n",
    "            # add a curve above for all semantic relations \n",
    "            x_range, y_range, height = self._format_line((x0,y0), (x1,y1))\n",
    "            if x_range is None:\n",
    "                continue \n",
    "                \n",
    "            edge_trace = go.Scatter(x=tuple(x_range), y=tuple(y_range),\n",
    "                                   hoverinfo='skip',\n",
    "                                   mode='lines',\n",
    "                                   line={'width': 1},\n",
    "                                   marker=dict(color='black'),\n",
    "                                   line_shape='spline',\n",
    "                                   opacity=1)\n",
    "\n",
    "            x_mid = x_range[int(len(x_range)/2)]\n",
    "            attributes = self._get_attribute_str((node_0, node_1), is_node=False)\n",
    "            if len(attributes) > 0:\n",
    "                midpoint_trace = go.Scatter(x=tuple([x_mid]), y=tuple([height]), \n",
    "                                            hovertext=attributes,\n",
    "                                            hoverinfo=\"text\",\n",
    "                                            mode='markers+text', \n",
    "                                            textposition=\"top center\",\n",
    "                                            marker={'size': 5, 'color': 'black'}\n",
    "                                           )\n",
    "                \n",
    "                self.trace_list.append(midpoint_trace)\n",
    "            self.trace_list.append(edge_trace)\n",
    "#             print(f\"arrow from {node_0} with {x0} to {node_1} with {x1}\")\n",
    "            if x1 < x0:\n",
    "                direction = \"left\"\n",
    "            else:\n",
    "                direction = \"right\"\n",
    "                \n",
    "            self._add_arrowhead((x1,y1), x0, x1, direction)\n",
    "            \n",
    "    def _add_head_edges(self):  \n",
    "        semantics_layer = self.graph.semantics_subgraph\n",
    "        for node_0 in semantics_layer:\n",
    "            node_name = \"-\".join(node_0.split(\"-\")[0:3])\n",
    "            try:\n",
    "                node_1, __ = self.graph.head(node_0)\n",
    "                node_1 = f\"{node_name}-syntax-{node_1}\"\n",
    "                x0,y0,x1,y1 = self._get_xy_from_edge(node_0, node_1)\n",
    "            except (KeyError, IndexError, TypeError) as e:\n",
    "                continue\n",
    "\n",
    "            edge_trace = go.Scatter(x=tuple([x0, x1]), y=tuple([y0,y1]),\n",
    "                                   hoverinfo='skip',\n",
    "                                   mode='lines',\n",
    "                                   line={'width': 3},\n",
    "                                   marker=dict(color='grey'),\n",
    "                                   line_shape='spline',\n",
    "                                   opacity=1)\n",
    "\n",
    "            self.trace_list.append(edge_trace)\n",
    "            self.added_edges.append((node_0, node_1))\n",
    "            \n",
    "    def _add_span_edges(self):\n",
    "        for (node_0, node_1) in self.graph.instance_edges():\n",
    "            if (node_0, node_1) not in self.added_edges:\n",
    "                try:\n",
    "                    x0,y0,x1,y1 = self._get_xy_from_edge(node_0, node_1)\n",
    "                except (KeyError, TypeError, IndexError) as e:\n",
    "                    continue\n",
    "                    \n",
    "                edge_trace = go.Scatter(x=tuple([x0, x1]), y=tuple([y0,y1]),\n",
    "                                   hoverinfo='skip',\n",
    "                                   mode='lines',\n",
    "                                   line={'width': 1},\n",
    "                                   marker=dict(color='grey'),\n",
    "                                   line_shape='spline',\n",
    "                                   opacity=1)\n",
    "\n",
    "                self.trace_list.append(edge_trace)\n",
    "                \n",
    "                point = (x1, y1)\n",
    "                self._add_arrowhead(point, x0, y0, \"down\", color=\"grey\")\n",
    "\n",
    "\n",
    "    def prepare_graph(self) -> Dict:\n",
    "        \"\"\"\n",
    "        Convert a UDS graph into a Dash-ready layout\n",
    "        \"\"\"\n",
    "        self._add_syntax_nodes()\n",
    "        self._add_semantics_nodes()\n",
    "        if self.add_syntax_edges:\n",
    "            self._add_syntax_edges()\n",
    "        self._add_semantics_edges()\n",
    "        self._add_head_edges()\n",
    "        if self.add_span_edges:\n",
    "            self._add_span_edges()\n",
    "\n",
    "        figure = {\n",
    "                \"data\": self.trace_list,\n",
    "                \"layout\": go.Layout(title=self.graph.name, showlegend=False,\n",
    "                                    margin={'b': 40, 'l': 0, 'r': 0, 't': 40},\n",
    "                                    xaxis={'showgrid': False, 'zeroline': False, 'showticklabels': False},\n",
    "                                    yaxis={'showgrid': False, 'zeroline': False, 'showticklabels': False},\n",
    "                                    width=600,\n",
    "                                    height=600),\n",
    "                }\n",
    "\n",
    "        return figure\n",
    "    \n",
    "    def serve(self):\n",
    "        figure = self.prepare_graph() \n",
    "        external_stylesheets = ['https://codepen.io/chriddyp/pen/bWLwgP.css']\n",
    "        app = dash.Dash(__name__, external_stylesheets=external_stylesheets)\n",
    "        app.title = self.graph.name\n",
    "\n",
    "\n",
    "        app.layout = html.Div([\n",
    "                            html.Div(\n",
    "                                className=\"eight columns\",\n",
    "                                children=[dcc.Graph(id=\"my-graph\",\n",
    "                                                    figure=figure)],\n",
    "                                    ),\n",
    "                         ])\n",
    "\n",
    "        app.run_server(debug=True,use_reloader=False)"
   ]
  },
  {
   "cell_type": "code",
   "execution_count": null,
   "metadata": {},
   "outputs": [
    {
     "name": "stdout",
     "output_type": "stream",
     "text": [
      "Running on http://127.0.0.1:8050/\n",
      "Running on http://127.0.0.1:8050/\n",
      "Running on http://127.0.0.1:8050/\n",
      "Running on http://127.0.0.1:8050/\n",
      "Running on http://127.0.0.1:8050/\n",
      "Running on http://127.0.0.1:8050/\n",
      "Running on http://127.0.0.1:8050/\n",
      "Running on http://127.0.0.1:8050/\n",
      "Running on http://127.0.0.1:8050/\n",
      "Running on http://127.0.0.1:8050/\n",
      "Running on http://127.0.0.1:8050/\n",
      "Running on http://127.0.0.1:8050/\n",
      "Running on http://127.0.0.1:8050/\n",
      "Running on http://127.0.0.1:8050/\n",
      "Running on http://127.0.0.1:8050/\n",
      "Running on http://127.0.0.1:8050/\n",
      "Running on http://127.0.0.1:8050/\n",
      "Running on http://127.0.0.1:8050/\n",
      "Running on http://127.0.0.1:8050/\n",
      "Running on http://127.0.0.1:8050/\n",
      "Running on http://127.0.0.1:8050/\n",
      "Running on http://127.0.0.1:8050/\n",
      "Running on http://127.0.0.1:8050/\n",
      "Running on http://127.0.0.1:8050/\n",
      "Running on http://127.0.0.1:8050/\n",
      "Running on http://127.0.0.1:8050/\n",
      "Running on http://127.0.0.1:8050/\n",
      "Debugger PIN: 223-353-111\n",
      "Debugger PIN: 223-353-111\n",
      "Debugger PIN: 223-353-111\n",
      "Debugger PIN: 223-353-111\n",
      "Debugger PIN: 223-353-111\n",
      "Debugger PIN: 223-353-111\n",
      "Debugger PIN: 223-353-111\n",
      "Debugger PIN: 223-353-111\n",
      "Debugger PIN: 223-353-111\n",
      "Debugger PIN: 223-353-111\n",
      "Debugger PIN: 223-353-111\n",
      "Debugger PIN: 223-353-111\n",
      "Debugger PIN: 223-353-111\n",
      "Debugger PIN: 223-353-111\n",
      "Debugger PIN: 223-353-111\n",
      "Debugger PIN: 223-353-111\n",
      "Debugger PIN: 223-353-111\n",
      "Debugger PIN: 223-353-111\n",
      "Debugger PIN: 223-353-111\n",
      "Debugger PIN: 223-353-111\n",
      "Debugger PIN: 223-353-111\n",
      "Debugger PIN: 223-353-111\n",
      "Debugger PIN: 223-353-111\n",
      "Debugger PIN: 223-353-111\n",
      "Debugger PIN: 223-353-111\n",
      "Debugger PIN: 223-353-111\n",
      "Debugger PIN: 223-353-111\n",
      " * Serving Flask app \"__main__\" (lazy loading)\n",
      " * Environment: production\n",
      "   WARNING: This is a development server. Do not use it in a production deployment.\n",
      "   Use a production WSGI server instead.\n",
      " * Debug mode: on\n"
     ]
    }
   ],
   "source": [
    "if __name__ == \"__main__\":\n",
    "    vis = UDSVisualization(problem, add_syntax_edges=True)\n",
    "    vis.serve()"
   ]
  },
  {
   "cell_type": "code",
   "execution_count": null,
   "metadata": {},
   "outputs": [],
   "source": []
  },
  {
   "cell_type": "code",
   "execution_count": null,
   "metadata": {},
   "outputs": [],
   "source": []
  },
  {
   "cell_type": "code",
   "execution_count": 74,
   "metadata": {},
   "outputs": [
    {
     "name": "stdout",
     "output_type": "stream",
     "text": [
      "-0.25\n",
      "1.2682724604973217e-06 0.0015926529164868282\n",
      "0.9992036735417565 -0.49999936586376975\n",
      "1.0007963264582433 0.49999936586376975\n"
     ]
    },
    {
     "data": {
      "application/vnd.plotly.v1+json": {
       "config": {
        "plotlyServerURL": "https://plot.ly"
       },
       "data": [
        {
         "mode": "lines",
         "name": "original",
         "type": "scatter",
         "x": [
          1,
          0,
          0,
          1
         ],
         "y": [
          0,
          0.5,
          -0.5,
          0
         ]
        },
        {
         "mode": "lines",
         "name": "rotated",
         "type": "scatter",
         "x": [
          1.2682724604973217e-06,
          0.9992036735417565,
          1.0007963264582433,
          1.2682724604973217e-06
         ],
         "y": [
          0.0015926529164868282,
          -0.49999936586376975,
          0.49999936586376975,
          0.0015926529164868282
         ]
        }
       ],
       "layout": {
        "height": 800,
        "template": {
         "data": {
          "bar": [
           {
            "error_x": {
             "color": "#2a3f5f"
            },
            "error_y": {
             "color": "#2a3f5f"
            },
            "marker": {
             "line": {
              "color": "#E5ECF6",
              "width": 0.5
             }
            },
            "type": "bar"
           }
          ],
          "barpolar": [
           {
            "marker": {
             "line": {
              "color": "#E5ECF6",
              "width": 0.5
             }
            },
            "type": "barpolar"
           }
          ],
          "carpet": [
           {
            "aaxis": {
             "endlinecolor": "#2a3f5f",
             "gridcolor": "white",
             "linecolor": "white",
             "minorgridcolor": "white",
             "startlinecolor": "#2a3f5f"
            },
            "baxis": {
             "endlinecolor": "#2a3f5f",
             "gridcolor": "white",
             "linecolor": "white",
             "minorgridcolor": "white",
             "startlinecolor": "#2a3f5f"
            },
            "type": "carpet"
           }
          ],
          "choropleth": [
           {
            "colorbar": {
             "outlinewidth": 0,
             "ticks": ""
            },
            "type": "choropleth"
           }
          ],
          "contour": [
           {
            "colorbar": {
             "outlinewidth": 0,
             "ticks": ""
            },
            "colorscale": [
             [
              0,
              "#0d0887"
             ],
             [
              0.1111111111111111,
              "#46039f"
             ],
             [
              0.2222222222222222,
              "#7201a8"
             ],
             [
              0.3333333333333333,
              "#9c179e"
             ],
             [
              0.4444444444444444,
              "#bd3786"
             ],
             [
              0.5555555555555556,
              "#d8576b"
             ],
             [
              0.6666666666666666,
              "#ed7953"
             ],
             [
              0.7777777777777778,
              "#fb9f3a"
             ],
             [
              0.8888888888888888,
              "#fdca26"
             ],
             [
              1,
              "#f0f921"
             ]
            ],
            "type": "contour"
           }
          ],
          "contourcarpet": [
           {
            "colorbar": {
             "outlinewidth": 0,
             "ticks": ""
            },
            "type": "contourcarpet"
           }
          ],
          "heatmap": [
           {
            "colorbar": {
             "outlinewidth": 0,
             "ticks": ""
            },
            "colorscale": [
             [
              0,
              "#0d0887"
             ],
             [
              0.1111111111111111,
              "#46039f"
             ],
             [
              0.2222222222222222,
              "#7201a8"
             ],
             [
              0.3333333333333333,
              "#9c179e"
             ],
             [
              0.4444444444444444,
              "#bd3786"
             ],
             [
              0.5555555555555556,
              "#d8576b"
             ],
             [
              0.6666666666666666,
              "#ed7953"
             ],
             [
              0.7777777777777778,
              "#fb9f3a"
             ],
             [
              0.8888888888888888,
              "#fdca26"
             ],
             [
              1,
              "#f0f921"
             ]
            ],
            "type": "heatmap"
           }
          ],
          "heatmapgl": [
           {
            "colorbar": {
             "outlinewidth": 0,
             "ticks": ""
            },
            "colorscale": [
             [
              0,
              "#0d0887"
             ],
             [
              0.1111111111111111,
              "#46039f"
             ],
             [
              0.2222222222222222,
              "#7201a8"
             ],
             [
              0.3333333333333333,
              "#9c179e"
             ],
             [
              0.4444444444444444,
              "#bd3786"
             ],
             [
              0.5555555555555556,
              "#d8576b"
             ],
             [
              0.6666666666666666,
              "#ed7953"
             ],
             [
              0.7777777777777778,
              "#fb9f3a"
             ],
             [
              0.8888888888888888,
              "#fdca26"
             ],
             [
              1,
              "#f0f921"
             ]
            ],
            "type": "heatmapgl"
           }
          ],
          "histogram": [
           {
            "marker": {
             "colorbar": {
              "outlinewidth": 0,
              "ticks": ""
             }
            },
            "type": "histogram"
           }
          ],
          "histogram2d": [
           {
            "colorbar": {
             "outlinewidth": 0,
             "ticks": ""
            },
            "colorscale": [
             [
              0,
              "#0d0887"
             ],
             [
              0.1111111111111111,
              "#46039f"
             ],
             [
              0.2222222222222222,
              "#7201a8"
             ],
             [
              0.3333333333333333,
              "#9c179e"
             ],
             [
              0.4444444444444444,
              "#bd3786"
             ],
             [
              0.5555555555555556,
              "#d8576b"
             ],
             [
              0.6666666666666666,
              "#ed7953"
             ],
             [
              0.7777777777777778,
              "#fb9f3a"
             ],
             [
              0.8888888888888888,
              "#fdca26"
             ],
             [
              1,
              "#f0f921"
             ]
            ],
            "type": "histogram2d"
           }
          ],
          "histogram2dcontour": [
           {
            "colorbar": {
             "outlinewidth": 0,
             "ticks": ""
            },
            "colorscale": [
             [
              0,
              "#0d0887"
             ],
             [
              0.1111111111111111,
              "#46039f"
             ],
             [
              0.2222222222222222,
              "#7201a8"
             ],
             [
              0.3333333333333333,
              "#9c179e"
             ],
             [
              0.4444444444444444,
              "#bd3786"
             ],
             [
              0.5555555555555556,
              "#d8576b"
             ],
             [
              0.6666666666666666,
              "#ed7953"
             ],
             [
              0.7777777777777778,
              "#fb9f3a"
             ],
             [
              0.8888888888888888,
              "#fdca26"
             ],
             [
              1,
              "#f0f921"
             ]
            ],
            "type": "histogram2dcontour"
           }
          ],
          "mesh3d": [
           {
            "colorbar": {
             "outlinewidth": 0,
             "ticks": ""
            },
            "type": "mesh3d"
           }
          ],
          "parcoords": [
           {
            "line": {
             "colorbar": {
              "outlinewidth": 0,
              "ticks": ""
             }
            },
            "type": "parcoords"
           }
          ],
          "pie": [
           {
            "automargin": true,
            "type": "pie"
           }
          ],
          "scatter": [
           {
            "marker": {
             "colorbar": {
              "outlinewidth": 0,
              "ticks": ""
             }
            },
            "type": "scatter"
           }
          ],
          "scatter3d": [
           {
            "line": {
             "colorbar": {
              "outlinewidth": 0,
              "ticks": ""
             }
            },
            "marker": {
             "colorbar": {
              "outlinewidth": 0,
              "ticks": ""
             }
            },
            "type": "scatter3d"
           }
          ],
          "scattercarpet": [
           {
            "marker": {
             "colorbar": {
              "outlinewidth": 0,
              "ticks": ""
             }
            },
            "type": "scattercarpet"
           }
          ],
          "scattergeo": [
           {
            "marker": {
             "colorbar": {
              "outlinewidth": 0,
              "ticks": ""
             }
            },
            "type": "scattergeo"
           }
          ],
          "scattergl": [
           {
            "marker": {
             "colorbar": {
              "outlinewidth": 0,
              "ticks": ""
             }
            },
            "type": "scattergl"
           }
          ],
          "scattermapbox": [
           {
            "marker": {
             "colorbar": {
              "outlinewidth": 0,
              "ticks": ""
             }
            },
            "type": "scattermapbox"
           }
          ],
          "scatterpolar": [
           {
            "marker": {
             "colorbar": {
              "outlinewidth": 0,
              "ticks": ""
             }
            },
            "type": "scatterpolar"
           }
          ],
          "scatterpolargl": [
           {
            "marker": {
             "colorbar": {
              "outlinewidth": 0,
              "ticks": ""
             }
            },
            "type": "scatterpolargl"
           }
          ],
          "scatterternary": [
           {
            "marker": {
             "colorbar": {
              "outlinewidth": 0,
              "ticks": ""
             }
            },
            "type": "scatterternary"
           }
          ],
          "surface": [
           {
            "colorbar": {
             "outlinewidth": 0,
             "ticks": ""
            },
            "colorscale": [
             [
              0,
              "#0d0887"
             ],
             [
              0.1111111111111111,
              "#46039f"
             ],
             [
              0.2222222222222222,
              "#7201a8"
             ],
             [
              0.3333333333333333,
              "#9c179e"
             ],
             [
              0.4444444444444444,
              "#bd3786"
             ],
             [
              0.5555555555555556,
              "#d8576b"
             ],
             [
              0.6666666666666666,
              "#ed7953"
             ],
             [
              0.7777777777777778,
              "#fb9f3a"
             ],
             [
              0.8888888888888888,
              "#fdca26"
             ],
             [
              1,
              "#f0f921"
             ]
            ],
            "type": "surface"
           }
          ],
          "table": [
           {
            "cells": {
             "fill": {
              "color": "#EBF0F8"
             },
             "line": {
              "color": "white"
             }
            },
            "header": {
             "fill": {
              "color": "#C8D4E3"
             },
             "line": {
              "color": "white"
             }
            },
            "type": "table"
           }
          ]
         },
         "layout": {
          "annotationdefaults": {
           "arrowcolor": "#2a3f5f",
           "arrowhead": 0,
           "arrowwidth": 1
          },
          "coloraxis": {
           "colorbar": {
            "outlinewidth": 0,
            "ticks": ""
           }
          },
          "colorscale": {
           "diverging": [
            [
             0,
             "#8e0152"
            ],
            [
             0.1,
             "#c51b7d"
            ],
            [
             0.2,
             "#de77ae"
            ],
            [
             0.3,
             "#f1b6da"
            ],
            [
             0.4,
             "#fde0ef"
            ],
            [
             0.5,
             "#f7f7f7"
            ],
            [
             0.6,
             "#e6f5d0"
            ],
            [
             0.7,
             "#b8e186"
            ],
            [
             0.8,
             "#7fbc41"
            ],
            [
             0.9,
             "#4d9221"
            ],
            [
             1,
             "#276419"
            ]
           ],
           "sequential": [
            [
             0,
             "#0d0887"
            ],
            [
             0.1111111111111111,
             "#46039f"
            ],
            [
             0.2222222222222222,
             "#7201a8"
            ],
            [
             0.3333333333333333,
             "#9c179e"
            ],
            [
             0.4444444444444444,
             "#bd3786"
            ],
            [
             0.5555555555555556,
             "#d8576b"
            ],
            [
             0.6666666666666666,
             "#ed7953"
            ],
            [
             0.7777777777777778,
             "#fb9f3a"
            ],
            [
             0.8888888888888888,
             "#fdca26"
            ],
            [
             1,
             "#f0f921"
            ]
           ],
           "sequentialminus": [
            [
             0,
             "#0d0887"
            ],
            [
             0.1111111111111111,
             "#46039f"
            ],
            [
             0.2222222222222222,
             "#7201a8"
            ],
            [
             0.3333333333333333,
             "#9c179e"
            ],
            [
             0.4444444444444444,
             "#bd3786"
            ],
            [
             0.5555555555555556,
             "#d8576b"
            ],
            [
             0.6666666666666666,
             "#ed7953"
            ],
            [
             0.7777777777777778,
             "#fb9f3a"
            ],
            [
             0.8888888888888888,
             "#fdca26"
            ],
            [
             1,
             "#f0f921"
            ]
           ]
          },
          "colorway": [
           "#636efa",
           "#EF553B",
           "#00cc96",
           "#ab63fa",
           "#FFA15A",
           "#19d3f3",
           "#FF6692",
           "#B6E880",
           "#FF97FF",
           "#FECB52"
          ],
          "font": {
           "color": "#2a3f5f"
          },
          "geo": {
           "bgcolor": "white",
           "lakecolor": "white",
           "landcolor": "#E5ECF6",
           "showlakes": true,
           "showland": true,
           "subunitcolor": "white"
          },
          "hoverlabel": {
           "align": "left"
          },
          "hovermode": "closest",
          "mapbox": {
           "style": "light"
          },
          "paper_bgcolor": "white",
          "plot_bgcolor": "#E5ECF6",
          "polar": {
           "angularaxis": {
            "gridcolor": "white",
            "linecolor": "white",
            "ticks": ""
           },
           "bgcolor": "#E5ECF6",
           "radialaxis": {
            "gridcolor": "white",
            "linecolor": "white",
            "ticks": ""
           }
          },
          "scene": {
           "xaxis": {
            "backgroundcolor": "#E5ECF6",
            "gridcolor": "white",
            "gridwidth": 2,
            "linecolor": "white",
            "showbackground": true,
            "ticks": "",
            "zerolinecolor": "white"
           },
           "yaxis": {
            "backgroundcolor": "#E5ECF6",
            "gridcolor": "white",
            "gridwidth": 2,
            "linecolor": "white",
            "showbackground": true,
            "ticks": "",
            "zerolinecolor": "white"
           },
           "zaxis": {
            "backgroundcolor": "#E5ECF6",
            "gridcolor": "white",
            "gridwidth": 2,
            "linecolor": "white",
            "showbackground": true,
            "ticks": "",
            "zerolinecolor": "white"
           }
          },
          "shapedefaults": {
           "line": {
            "color": "#2a3f5f"
           }
          },
          "ternary": {
           "aaxis": {
            "gridcolor": "white",
            "linecolor": "white",
            "ticks": ""
           },
           "baxis": {
            "gridcolor": "white",
            "linecolor": "white",
            "ticks": ""
           },
           "bgcolor": "#E5ECF6",
           "caxis": {
            "gridcolor": "white",
            "linecolor": "white",
            "ticks": ""
           }
          },
          "title": {
           "x": 0.05
          },
          "xaxis": {
           "automargin": true,
           "gridcolor": "white",
           "linecolor": "white",
           "ticks": "",
           "title": {
            "standoff": 15
           },
           "zerolinecolor": "white",
           "zerolinewidth": 2
          },
          "yaxis": {
           "automargin": true,
           "gridcolor": "white",
           "linecolor": "white",
           "ticks": "",
           "title": {
            "standoff": 15
           },
           "zerolinecolor": "white",
           "zerolinewidth": 2
          }
         }
        },
        "width": 800
       }
      },
      "text/html": [
       "<div>\n",
       "        \n",
       "        \n",
       "            <div id=\"15634d9d-002d-4974-bf9e-4e31706e5b76\" class=\"plotly-graph-div\" style=\"height:800px; width:800px;\"></div>\n",
       "            <script type=\"text/javascript\">\n",
       "                require([\"plotly\"], function(Plotly) {\n",
       "                    window.PLOTLYENV=window.PLOTLYENV || {};\n",
       "                    \n",
       "                if (document.getElementById(\"15634d9d-002d-4974-bf9e-4e31706e5b76\")) {\n",
       "                    Plotly.newPlot(\n",
       "                        '15634d9d-002d-4974-bf9e-4e31706e5b76',\n",
       "                        [{\"mode\": \"lines\", \"name\": \"original\", \"type\": \"scatter\", \"x\": [1, 0, 0, 1], \"y\": [0, 0.5, -0.5, 0]}, {\"mode\": \"lines\", \"name\": \"rotated\", \"type\": \"scatter\", \"x\": [1.2682724604973217e-06, 0.9992036735417565, 1.0007963264582433, 1.2682724604973217e-06], \"y\": [0.0015926529164868282, -0.49999936586376975, 0.49999936586376975, 0.0015926529164868282]}],\n",
       "                        {\"height\": 800, \"template\": {\"data\": {\"bar\": [{\"error_x\": {\"color\": \"#2a3f5f\"}, \"error_y\": {\"color\": \"#2a3f5f\"}, \"marker\": {\"line\": {\"color\": \"#E5ECF6\", \"width\": 0.5}}, \"type\": \"bar\"}], \"barpolar\": [{\"marker\": {\"line\": {\"color\": \"#E5ECF6\", \"width\": 0.5}}, \"type\": \"barpolar\"}], \"carpet\": [{\"aaxis\": {\"endlinecolor\": \"#2a3f5f\", \"gridcolor\": \"white\", \"linecolor\": \"white\", \"minorgridcolor\": \"white\", \"startlinecolor\": \"#2a3f5f\"}, \"baxis\": {\"endlinecolor\": \"#2a3f5f\", \"gridcolor\": \"white\", \"linecolor\": \"white\", \"minorgridcolor\": \"white\", \"startlinecolor\": \"#2a3f5f\"}, \"type\": \"carpet\"}], \"choropleth\": [{\"colorbar\": {\"outlinewidth\": 0, \"ticks\": \"\"}, \"type\": \"choropleth\"}], \"contour\": [{\"colorbar\": {\"outlinewidth\": 0, \"ticks\": \"\"}, \"colorscale\": [[0.0, \"#0d0887\"], [0.1111111111111111, \"#46039f\"], [0.2222222222222222, \"#7201a8\"], [0.3333333333333333, \"#9c179e\"], [0.4444444444444444, \"#bd3786\"], [0.5555555555555556, \"#d8576b\"], [0.6666666666666666, \"#ed7953\"], [0.7777777777777778, \"#fb9f3a\"], [0.8888888888888888, \"#fdca26\"], [1.0, \"#f0f921\"]], \"type\": \"contour\"}], \"contourcarpet\": [{\"colorbar\": {\"outlinewidth\": 0, \"ticks\": \"\"}, \"type\": \"contourcarpet\"}], \"heatmap\": [{\"colorbar\": {\"outlinewidth\": 0, \"ticks\": \"\"}, \"colorscale\": [[0.0, \"#0d0887\"], [0.1111111111111111, \"#46039f\"], [0.2222222222222222, \"#7201a8\"], [0.3333333333333333, \"#9c179e\"], [0.4444444444444444, \"#bd3786\"], [0.5555555555555556, \"#d8576b\"], [0.6666666666666666, \"#ed7953\"], [0.7777777777777778, \"#fb9f3a\"], [0.8888888888888888, \"#fdca26\"], [1.0, \"#f0f921\"]], \"type\": \"heatmap\"}], \"heatmapgl\": [{\"colorbar\": {\"outlinewidth\": 0, \"ticks\": \"\"}, \"colorscale\": [[0.0, \"#0d0887\"], [0.1111111111111111, \"#46039f\"], [0.2222222222222222, \"#7201a8\"], [0.3333333333333333, \"#9c179e\"], [0.4444444444444444, \"#bd3786\"], [0.5555555555555556, \"#d8576b\"], [0.6666666666666666, \"#ed7953\"], [0.7777777777777778, \"#fb9f3a\"], [0.8888888888888888, \"#fdca26\"], [1.0, \"#f0f921\"]], \"type\": \"heatmapgl\"}], \"histogram\": [{\"marker\": {\"colorbar\": {\"outlinewidth\": 0, \"ticks\": \"\"}}, \"type\": \"histogram\"}], \"histogram2d\": [{\"colorbar\": {\"outlinewidth\": 0, \"ticks\": \"\"}, \"colorscale\": [[0.0, \"#0d0887\"], [0.1111111111111111, \"#46039f\"], [0.2222222222222222, \"#7201a8\"], [0.3333333333333333, \"#9c179e\"], [0.4444444444444444, \"#bd3786\"], [0.5555555555555556, \"#d8576b\"], [0.6666666666666666, \"#ed7953\"], [0.7777777777777778, \"#fb9f3a\"], [0.8888888888888888, \"#fdca26\"], [1.0, \"#f0f921\"]], \"type\": \"histogram2d\"}], \"histogram2dcontour\": [{\"colorbar\": {\"outlinewidth\": 0, \"ticks\": \"\"}, \"colorscale\": [[0.0, \"#0d0887\"], [0.1111111111111111, \"#46039f\"], [0.2222222222222222, \"#7201a8\"], [0.3333333333333333, \"#9c179e\"], [0.4444444444444444, \"#bd3786\"], [0.5555555555555556, \"#d8576b\"], [0.6666666666666666, \"#ed7953\"], [0.7777777777777778, \"#fb9f3a\"], [0.8888888888888888, \"#fdca26\"], [1.0, \"#f0f921\"]], \"type\": \"histogram2dcontour\"}], \"mesh3d\": [{\"colorbar\": {\"outlinewidth\": 0, \"ticks\": \"\"}, \"type\": \"mesh3d\"}], \"parcoords\": [{\"line\": {\"colorbar\": {\"outlinewidth\": 0, \"ticks\": \"\"}}, \"type\": \"parcoords\"}], \"pie\": [{\"automargin\": true, \"type\": \"pie\"}], \"scatter\": [{\"marker\": {\"colorbar\": {\"outlinewidth\": 0, \"ticks\": \"\"}}, \"type\": \"scatter\"}], \"scatter3d\": [{\"line\": {\"colorbar\": {\"outlinewidth\": 0, \"ticks\": \"\"}}, \"marker\": {\"colorbar\": {\"outlinewidth\": 0, \"ticks\": \"\"}}, \"type\": \"scatter3d\"}], \"scattercarpet\": [{\"marker\": {\"colorbar\": {\"outlinewidth\": 0, \"ticks\": \"\"}}, \"type\": \"scattercarpet\"}], \"scattergeo\": [{\"marker\": {\"colorbar\": {\"outlinewidth\": 0, \"ticks\": \"\"}}, \"type\": \"scattergeo\"}], \"scattergl\": [{\"marker\": {\"colorbar\": {\"outlinewidth\": 0, \"ticks\": \"\"}}, \"type\": \"scattergl\"}], \"scattermapbox\": [{\"marker\": {\"colorbar\": {\"outlinewidth\": 0, \"ticks\": \"\"}}, \"type\": \"scattermapbox\"}], \"scatterpolar\": [{\"marker\": {\"colorbar\": {\"outlinewidth\": 0, \"ticks\": \"\"}}, \"type\": \"scatterpolar\"}], \"scatterpolargl\": [{\"marker\": {\"colorbar\": {\"outlinewidth\": 0, \"ticks\": \"\"}}, \"type\": \"scatterpolargl\"}], \"scatterternary\": [{\"marker\": {\"colorbar\": {\"outlinewidth\": 0, \"ticks\": \"\"}}, \"type\": \"scatterternary\"}], \"surface\": [{\"colorbar\": {\"outlinewidth\": 0, \"ticks\": \"\"}, \"colorscale\": [[0.0, \"#0d0887\"], [0.1111111111111111, \"#46039f\"], [0.2222222222222222, \"#7201a8\"], [0.3333333333333333, \"#9c179e\"], [0.4444444444444444, \"#bd3786\"], [0.5555555555555556, \"#d8576b\"], [0.6666666666666666, \"#ed7953\"], [0.7777777777777778, \"#fb9f3a\"], [0.8888888888888888, \"#fdca26\"], [1.0, \"#f0f921\"]], \"type\": \"surface\"}], \"table\": [{\"cells\": {\"fill\": {\"color\": \"#EBF0F8\"}, \"line\": {\"color\": \"white\"}}, \"header\": {\"fill\": {\"color\": \"#C8D4E3\"}, \"line\": {\"color\": \"white\"}}, \"type\": \"table\"}]}, \"layout\": {\"annotationdefaults\": {\"arrowcolor\": \"#2a3f5f\", \"arrowhead\": 0, \"arrowwidth\": 1}, \"coloraxis\": {\"colorbar\": {\"outlinewidth\": 0, \"ticks\": \"\"}}, \"colorscale\": {\"diverging\": [[0, \"#8e0152\"], [0.1, \"#c51b7d\"], [0.2, \"#de77ae\"], [0.3, \"#f1b6da\"], [0.4, \"#fde0ef\"], [0.5, \"#f7f7f7\"], [0.6, \"#e6f5d0\"], [0.7, \"#b8e186\"], [0.8, \"#7fbc41\"], [0.9, \"#4d9221\"], [1, \"#276419\"]], \"sequential\": [[0.0, \"#0d0887\"], [0.1111111111111111, \"#46039f\"], [0.2222222222222222, \"#7201a8\"], [0.3333333333333333, \"#9c179e\"], [0.4444444444444444, \"#bd3786\"], [0.5555555555555556, \"#d8576b\"], [0.6666666666666666, \"#ed7953\"], [0.7777777777777778, \"#fb9f3a\"], [0.8888888888888888, \"#fdca26\"], [1.0, \"#f0f921\"]], \"sequentialminus\": [[0.0, \"#0d0887\"], [0.1111111111111111, \"#46039f\"], [0.2222222222222222, \"#7201a8\"], [0.3333333333333333, \"#9c179e\"], [0.4444444444444444, \"#bd3786\"], [0.5555555555555556, \"#d8576b\"], [0.6666666666666666, \"#ed7953\"], [0.7777777777777778, \"#fb9f3a\"], [0.8888888888888888, \"#fdca26\"], [1.0, \"#f0f921\"]]}, \"colorway\": [\"#636efa\", \"#EF553B\", \"#00cc96\", \"#ab63fa\", \"#FFA15A\", \"#19d3f3\", \"#FF6692\", \"#B6E880\", \"#FF97FF\", \"#FECB52\"], \"font\": {\"color\": \"#2a3f5f\"}, \"geo\": {\"bgcolor\": \"white\", \"lakecolor\": \"white\", \"landcolor\": \"#E5ECF6\", \"showlakes\": true, \"showland\": true, \"subunitcolor\": \"white\"}, \"hoverlabel\": {\"align\": \"left\"}, \"hovermode\": \"closest\", \"mapbox\": {\"style\": \"light\"}, \"paper_bgcolor\": \"white\", \"plot_bgcolor\": \"#E5ECF6\", \"polar\": {\"angularaxis\": {\"gridcolor\": \"white\", \"linecolor\": \"white\", \"ticks\": \"\"}, \"bgcolor\": \"#E5ECF6\", \"radialaxis\": {\"gridcolor\": \"white\", \"linecolor\": \"white\", \"ticks\": \"\"}}, \"scene\": {\"xaxis\": {\"backgroundcolor\": \"#E5ECF6\", \"gridcolor\": \"white\", \"gridwidth\": 2, \"linecolor\": \"white\", \"showbackground\": true, \"ticks\": \"\", \"zerolinecolor\": \"white\"}, \"yaxis\": {\"backgroundcolor\": \"#E5ECF6\", \"gridcolor\": \"white\", \"gridwidth\": 2, \"linecolor\": \"white\", \"showbackground\": true, \"ticks\": \"\", \"zerolinecolor\": \"white\"}, \"zaxis\": {\"backgroundcolor\": \"#E5ECF6\", \"gridcolor\": \"white\", \"gridwidth\": 2, \"linecolor\": \"white\", \"showbackground\": true, \"ticks\": \"\", \"zerolinecolor\": \"white\"}}, \"shapedefaults\": {\"line\": {\"color\": \"#2a3f5f\"}}, \"ternary\": {\"aaxis\": {\"gridcolor\": \"white\", \"linecolor\": \"white\", \"ticks\": \"\"}, \"baxis\": {\"gridcolor\": \"white\", \"linecolor\": \"white\", \"ticks\": \"\"}, \"bgcolor\": \"#E5ECF6\", \"caxis\": {\"gridcolor\": \"white\", \"linecolor\": \"white\", \"ticks\": \"\"}}, \"title\": {\"x\": 0.05}, \"xaxis\": {\"automargin\": true, \"gridcolor\": \"white\", \"linecolor\": \"white\", \"ticks\": \"\", \"title\": {\"standoff\": 15}, \"zerolinecolor\": \"white\", \"zerolinewidth\": 2}, \"yaxis\": {\"automargin\": true, \"gridcolor\": \"white\", \"linecolor\": \"white\", \"ticks\": \"\", \"title\": {\"standoff\": 15}, \"zerolinecolor\": \"white\", \"zerolinewidth\": 2}}}, \"width\": 800},\n",
       "                        {\"responsive\": true}\n",
       "                    ).then(function(){\n",
       "                            \n",
       "var gd = document.getElementById('15634d9d-002d-4974-bf9e-4e31706e5b76');\n",
       "var x = new MutationObserver(function (mutations, observer) {{\n",
       "        var display = window.getComputedStyle(gd).display;\n",
       "        if (!display || display === 'none') {{\n",
       "            console.log([gd, 'removed!']);\n",
       "            Plotly.purge(gd);\n",
       "            observer.disconnect();\n",
       "        }}\n",
       "}});\n",
       "\n",
       "// Listen for the removal of the full notebook cells\n",
       "var notebookContainer = gd.closest('#notebook-container');\n",
       "if (notebookContainer) {{\n",
       "    x.observe(notebookContainer, {childList: true});\n",
       "}}\n",
       "\n",
       "// Listen for the clearing of the current output cell\n",
       "var outputEl = gd.closest('.output');\n",
       "if (outputEl) {{\n",
       "    x.observe(outputEl, {childList: true});\n",
       "}}\n",
       "\n",
       "                        })\n",
       "                };\n",
       "                });\n",
       "            </script>\n",
       "        </div>"
      ]
     },
     "metadata": {},
     "output_type": "display_data"
    }
   ],
   "source": [
    "def _add_arrowhead(point, x0, x1, direction):\n",
    "    # get tangent line at point\n",
    "    x,y = point\n",
    "#     print(f\"x0{x0} x1 {x1} point {point}\")\n",
    "#     print(f\"derivative composed of {-1/(4*(x1-x0))} and {(2*x - x0 - x1)}\")\n",
    "    derivative = -1/(4*(x1-x0)) * (2*x - x0 - x1)\n",
    "    print(derivative)\n",
    "#     theta_degrees = np.arctan(derivative)\n",
    "    theta_degrees = 15\n",
    "    theta_radians = 3.14 * theta_degrees/180\n",
    "#     theta_radians = 90 * 3.14/180\n",
    "#     print(theta_degrees)\n",
    "#     print(theta_radians)\n",
    "    \n",
    "    #before_triangle: (x0,y0), (x0-1/2 * l, y0 + l), (x0 + 1/2 * l, y0 + l)\n",
    "    l = 1\n",
    "    x1 = x0 - l\n",
    "    x2 = x0 - l \n",
    "    y1 = y + 0.5*l\n",
    "    y2 = y - 0.5*l\n",
    "    y0 = y\n",
    "    \n",
    "    fig = go.Figure()\n",
    "    fig.add_trace(go.Scatter(x=[x0, x1, x2, x0], y=[y0, y1, y2, y0],\n",
    "                    mode='lines',\n",
    "                    name='original'))\n",
    "    \n",
    "    vertices = [[x0,y0], [x1, y1], [x2, y2], [x0,y0]]\n",
    "    width = 1\n",
    "    arrowhead_transformation = (matplotlib.transforms.Affine2D()\n",
    "#                                 .scale(np.hypot(0.5*l,l), width)\n",
    "                                .rotate(3.14/1)\n",
    "                                .translate(x0, y0)\n",
    "                                .frozen())\n",
    "        \n",
    "    vertices_prime = [arrowhead_transformation.transform_point((x,y)) for (x,y) in vertices]\n",
    "    x0_prime, y0_prime = vertices_prime[0]\n",
    "    x1_prime, y1_prime = vertices_prime[1]\n",
    "    x2_prime, y2_prime = vertices_prime[2]\n",
    "    \n",
    "    print(x0_prime, y0_prime)\n",
    "    print(x1_prime, y1_prime)\n",
    "    print(x2_prime, y2_prime)\n",
    "    \n",
    "    fig.add_trace(go.Scatter(x=[x0_prime, x1_prime, x2_prime, x0_prime], y=[y0_prime, y1_prime, y2_prime, y0_prime],\n",
    "                    mode='lines',\n",
    "                    name='rotated'))\n",
    "    \n",
    "#     fig.update_xaxes(showgrid=True, gridwidth=1, range=[12, 16])\n",
    "#     fig.update_yaxes(showgrid=True, gridwidth=1, range=[0, 4])\n",
    "    fig.update_layout(width = 800,\n",
    "                      height = 800,)\n",
    "\n",
    "    \n",
    "    fig.show()\n",
    "    \n",
    "    \n",
    "    \n",
    "# point = (21, 0)\n",
    "# x0, x1 = (14, 21)\n",
    "\n",
    "point = (0,0)\n",
    "x0, x1 = (1,0)\n",
    "\n",
    "_add_arrowhead(point, x0, x1, \"right\")\n"
   ]
  },
  {
   "cell_type": "code",
   "execution_count": null,
   "metadata": {},
   "outputs": [],
   "source": []
  },
  {
   "cell_type": "code",
   "execution_count": null,
   "metadata": {},
   "outputs": [],
   "source": []
  },
  {
   "cell_type": "code",
   "execution_count": null,
   "metadata": {},
   "outputs": [],
   "source": []
  }
 ],
 "metadata": {
  "kernelspec": {
   "display_name": "Python 3",
   "language": "python",
   "name": "python3"
  },
  "language_info": {
   "codemirror_mode": {
    "name": "ipython",
    "version": 3
   },
   "file_extension": ".py",
   "mimetype": "text/x-python",
   "name": "python",
   "nbconvert_exporter": "python",
   "pygments_lexer": "ipython3",
   "version": "3.7.3"
  }
 },
 "nbformat": 4,
 "nbformat_minor": 4
}
